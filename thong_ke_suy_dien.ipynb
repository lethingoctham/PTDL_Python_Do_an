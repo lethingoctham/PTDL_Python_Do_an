{
 "cells": [
  {
   "cell_type": "code",
   "execution_count": 1,
   "id": "df64f55d",
   "metadata": {},
   "outputs": [],
   "source": [
    "import numpy as np\n",
    "import pandas as pd\n",
    "from scipy import stats\n",
    "import seaborn as sns\n",
    "from matplotlib import pyplot as plt\n",
    "import statsmodels.api as sm"
   ]
  },
  {
   "cell_type": "code",
   "execution_count": 6,
   "id": "d16f52ca",
   "metadata": {},
   "outputs": [
    {
     "data": {
      "text/html": [
       "<div>\n",
       "<style scoped>\n",
       "    .dataframe tbody tr th:only-of-type {\n",
       "        vertical-align: middle;\n",
       "    }\n",
       "\n",
       "    .dataframe tbody tr th {\n",
       "        vertical-align: top;\n",
       "    }\n",
       "\n",
       "    .dataframe thead th {\n",
       "        text-align: right;\n",
       "    }\n",
       "</style>\n",
       "<table border=\"1\" class=\"dataframe\">\n",
       "  <thead>\n",
       "    <tr style=\"text-align: right;\">\n",
       "      <th></th>\n",
       "      <th>Person</th>\n",
       "      <th>gender</th>\n",
       "      <th>Age</th>\n",
       "      <th>Height</th>\n",
       "      <th>pre.weight</th>\n",
       "      <th>Diet</th>\n",
       "      <th>weight6weeks</th>\n",
       "    </tr>\n",
       "  </thead>\n",
       "  <tbody>\n",
       "    <tr>\n",
       "      <th>14</th>\n",
       "      <td>13</td>\n",
       "      <td>0.0</td>\n",
       "      <td>41</td>\n",
       "      <td>163</td>\n",
       "      <td>72</td>\n",
       "      <td>1</td>\n",
       "      <td>68.4</td>\n",
       "    </tr>\n",
       "    <tr>\n",
       "      <th>74</th>\n",
       "      <td>75</td>\n",
       "      <td>1.0</td>\n",
       "      <td>49</td>\n",
       "      <td>177</td>\n",
       "      <td>84</td>\n",
       "      <td>3</td>\n",
       "      <td>79.9</td>\n",
       "    </tr>\n",
       "    <tr>\n",
       "      <th>61</th>\n",
       "      <td>47</td>\n",
       "      <td>1.0</td>\n",
       "      <td>44</td>\n",
       "      <td>163</td>\n",
       "      <td>79</td>\n",
       "      <td>2</td>\n",
       "      <td>73.6</td>\n",
       "    </tr>\n",
       "    <tr>\n",
       "      <th>34</th>\n",
       "      <td>56</td>\n",
       "      <td>0.0</td>\n",
       "      <td>36</td>\n",
       "      <td>160</td>\n",
       "      <td>66</td>\n",
       "      <td>3</td>\n",
       "      <td>58.2</td>\n",
       "    </tr>\n",
       "    <tr>\n",
       "      <th>56</th>\n",
       "      <td>42</td>\n",
       "      <td>1.0</td>\n",
       "      <td>38</td>\n",
       "      <td>199</td>\n",
       "      <td>75</td>\n",
       "      <td>2</td>\n",
       "      <td>72.6</td>\n",
       "    </tr>\n",
       "    <tr>\n",
       "      <th>12</th>\n",
       "      <td>11</td>\n",
       "      <td>0.0</td>\n",
       "      <td>60</td>\n",
       "      <td>173</td>\n",
       "      <td>72</td>\n",
       "      <td>1</td>\n",
       "      <td>70.5</td>\n",
       "    </tr>\n",
       "    <tr>\n",
       "      <th>52</th>\n",
       "      <td>22</td>\n",
       "      <td>1.0</td>\n",
       "      <td>42</td>\n",
       "      <td>166</td>\n",
       "      <td>85</td>\n",
       "      <td>1</td>\n",
       "      <td>81.5</td>\n",
       "    </tr>\n",
       "    <tr>\n",
       "      <th>71</th>\n",
       "      <td>72</td>\n",
       "      <td>1.0</td>\n",
       "      <td>26</td>\n",
       "      <td>179</td>\n",
       "      <td>78</td>\n",
       "      <td>3</td>\n",
       "      <td>69.4</td>\n",
       "    </tr>\n",
       "    <tr>\n",
       "      <th>53</th>\n",
       "      <td>23</td>\n",
       "      <td>1.0</td>\n",
       "      <td>39</td>\n",
       "      <td>166</td>\n",
       "      <td>87</td>\n",
       "      <td>1</td>\n",
       "      <td>81.9</td>\n",
       "    </tr>\n",
       "    <tr>\n",
       "      <th>28</th>\n",
       "      <td>39</td>\n",
       "      <td>0.0</td>\n",
       "      <td>30</td>\n",
       "      <td>161</td>\n",
       "      <td>76</td>\n",
       "      <td>2</td>\n",
       "      <td>72.7</td>\n",
       "    </tr>\n",
       "  </tbody>\n",
       "</table>\n",
       "</div>"
      ],
      "text/plain": [
       "    Person  gender  Age  Height  pre.weight  Diet  weight6weeks\n",
       "14      13     0.0   41     163          72     1          68.4\n",
       "74      75     1.0   49     177          84     3          79.9\n",
       "61      47     1.0   44     163          79     2          73.6\n",
       "34      56     0.0   36     160          66     3          58.2\n",
       "56      42     1.0   38     199          75     2          72.6\n",
       "12      11     0.0   60     173          72     1          70.5\n",
       "52      22     1.0   42     166          85     1          81.5\n",
       "71      72     1.0   26     179          78     3          69.4\n",
       "53      23     1.0   39     166          87     1          81.9\n",
       "28      39     0.0   30     161          76     2          72.7"
      ]
     },
     "execution_count": 6,
     "metadata": {},
     "output_type": "execute_result"
    }
   ],
   "source": [
    "#đọc file\n",
    "df= pd.read_csv('C:\\\\Users\\\\acer\\\\Downloads\\\\Diet_R.csv.csv')\n",
    "df.sample(10)"
   ]
  },
  {
   "cell_type": "markdown",
   "id": "a0cace41",
   "metadata": {},
   "source": [
    "Tính cân nặng giảm"
   ]
  },
  {
   "cell_type": "code",
   "execution_count": 30,
   "id": "0741f828",
   "metadata": {},
   "outputs": [
    {
     "data": {
      "text/html": [
       "<div>\n",
       "<style scoped>\n",
       "    .dataframe tbody tr th:only-of-type {\n",
       "        vertical-align: middle;\n",
       "    }\n",
       "\n",
       "    .dataframe tbody tr th {\n",
       "        vertical-align: top;\n",
       "    }\n",
       "\n",
       "    .dataframe thead th {\n",
       "        text-align: right;\n",
       "    }\n",
       "</style>\n",
       "<table border=\"1\" class=\"dataframe\">\n",
       "  <thead>\n",
       "    <tr style=\"text-align: right;\">\n",
       "      <th></th>\n",
       "      <th>Diet</th>\n",
       "      <th>losingweight</th>\n",
       "    </tr>\n",
       "  </thead>\n",
       "  <tbody>\n",
       "    <tr>\n",
       "      <th>0</th>\n",
       "      <td>2</td>\n",
       "      <td>0.0</td>\n",
       "    </tr>\n",
       "    <tr>\n",
       "      <th>1</th>\n",
       "      <td>2</td>\n",
       "      <td>0.0</td>\n",
       "    </tr>\n",
       "    <tr>\n",
       "      <th>2</th>\n",
       "      <td>1</td>\n",
       "      <td>3.8</td>\n",
       "    </tr>\n",
       "    <tr>\n",
       "      <th>3</th>\n",
       "      <td>1</td>\n",
       "      <td>6.0</td>\n",
       "    </tr>\n",
       "    <tr>\n",
       "      <th>4</th>\n",
       "      <td>1</td>\n",
       "      <td>0.7</td>\n",
       "    </tr>\n",
       "    <tr>\n",
       "      <th>...</th>\n",
       "      <td>...</td>\n",
       "      <td>...</td>\n",
       "    </tr>\n",
       "    <tr>\n",
       "      <th>73</th>\n",
       "      <td>3</td>\n",
       "      <td>2.8</td>\n",
       "    </tr>\n",
       "    <tr>\n",
       "      <th>74</th>\n",
       "      <td>3</td>\n",
       "      <td>4.1</td>\n",
       "    </tr>\n",
       "    <tr>\n",
       "      <th>75</th>\n",
       "      <td>3</td>\n",
       "      <td>5.3</td>\n",
       "    </tr>\n",
       "    <tr>\n",
       "      <th>76</th>\n",
       "      <td>3</td>\n",
       "      <td>9.2</td>\n",
       "    </tr>\n",
       "    <tr>\n",
       "      <th>77</th>\n",
       "      <td>3</td>\n",
       "      <td>6.1</td>\n",
       "    </tr>\n",
       "  </tbody>\n",
       "</table>\n",
       "<p>78 rows × 2 columns</p>\n",
       "</div>"
      ],
      "text/plain": [
       "    Diet  losingweight\n",
       "0      2           0.0\n",
       "1      2           0.0\n",
       "2      1           3.8\n",
       "3      1           6.0\n",
       "4      1           0.7\n",
       "..   ...           ...\n",
       "73     3           2.8\n",
       "74     3           4.1\n",
       "75     3           5.3\n",
       "76     3           9.2\n",
       "77     3           6.1\n",
       "\n",
       "[78 rows x 2 columns]"
      ]
     },
     "execution_count": 30,
     "metadata": {},
     "output_type": "execute_result"
    }
   ],
   "source": [
    "df['losingweight'] = df['pre.weight'] - df['weight6weeks']\n",
    "df_diet_losing = df[['Diet','losingweight']].copy()\n",
    "df_diet_losing"
   ]
  },
  {
   "cell_type": "markdown",
   "id": "745a7ee8",
   "metadata": {},
   "source": [
    "#### Sự khác nhau về hiệu quả của các phương pháp giảm cân\n",
    "##### Phát biểu giả thuyết\n",
    "\n",
    "- H0: không có sự khác biệt về hiệu quả giảm cân giữa 3 phương pháp\n",
    "    \n",
    "- H1: có ít nhất hai kiểu phương pháp khác nhau về hiệu quả giảm cân"
   ]
  },
  {
   "cell_type": "code",
   "execution_count": 13,
   "id": "24b3c8e8",
   "metadata": {},
   "outputs": [
    {
     "name": "stdout",
     "output_type": "stream",
     "text": [
      "Stat = 2.720972750635475 P_value = 0.0072584136689251115\n",
      "Có bằng chứng thống kê để bác bỏ giả thuyết H0. Điều này ngụ ý rằng\n",
      "          có sự thay đổi về cân nặng trước và sau khi giảm cân\n"
     ]
    }
   ],
   "source": [
    "stat, p_value = stats.ttest_ind(df[\"pre.weight\"], df[\"weight6weeks\"])\n",
    "print('Stat =', stat, 'P_value =', p_value)\n",
    "if p_value < 0.05:\n",
    "    print('''Có bằng chứng thống kê để bác bỏ giả thuyết H0. Điều này ngụ ý rằng\n",
    "          có sự thay đổi về cân nặng trước và sau khi giảm cân''')\n",
    "else:\n",
    "    print('''Chưa có bằng chứng thống kê để bác bỏ giả thuyết H0. Điều này ngụ ý rằng\n",
    "    không có sự thay đổi về cân nặng trước và sau khi giảm cân''')"
   ]
  },
  {
   "cell_type": "code",
   "execution_count": 42,
   "id": "7998cfc7",
   "metadata": {},
   "outputs": [
    {
     "data": {
      "text/plain": [
       "Text(0.5, 1.0, 'Cân nặng trước và sau khi giảm cân')"
      ]
     },
     "execution_count": 42,
     "metadata": {},
     "output_type": "execute_result"
    },
    {
     "data": {
      "image/png": "[encoded data removed]",
      "text/plain": [
       "<Figure size 432x288 with 1 Axes>"
      ]
     },
     "metadata": {},
     "output_type": "display_data"
    }
   ],
   "source": [
    "sns.set()\n",
    "df[['pre.weight', 'weight6weeks']].plot(color = ['red', 'green'])\n",
    "plt.title('Cân nặng trước và sau khi giảm cân', fontsize = 17, color = 'orange')"
   ]
  },
  {
   "cell_type": "code",
   "execution_count": 24,
   "id": "388b19d5",
   "metadata": {},
   "outputs": [
    {
     "data": {
      "image/png": "[encoded data removed]",
      "text/plain": [
       "<Figure size 432x288 with 1 Axes>"
      ]
     },
     "metadata": {},
     "output_type": "display_data"
    }
   ],
   "source": [
    "sns.boxplot(x='Diet',y='losingweight',data = df_diet_losing, color='purple')\n",
    "sns.swarmplot(x='Diet',y='losingweight', data = df_diet_losing, color='green')\n",
    "plt.show()"
   ]
  },
  {
   "cell_type": "code",
   "execution_count": 26,
   "id": "d8063963",
   "metadata": {},
   "outputs": [],
   "source": [
    "from statsmodels.formula.api import ols\n",
    "import statsmodels.api as sm"
   ]
  },
  {
   "cell_type": "code",
   "execution_count": 27,
   "id": "aa4ed028",
   "metadata": {},
   "outputs": [
    {
     "data": {
      "text/html": [
       "<div>\n",
       "<style scoped>\n",
       "    .dataframe tbody tr th:only-of-type {\n",
       "        vertical-align: middle;\n",
       "    }\n",
       "\n",
       "    .dataframe tbody tr th {\n",
       "        vertical-align: top;\n",
       "    }\n",
       "\n",
       "    .dataframe thead th {\n",
       "        text-align: right;\n",
       "    }\n",
       "</style>\n",
       "<table border=\"1\" class=\"dataframe\">\n",
       "  <thead>\n",
       "    <tr style=\"text-align: right;\">\n",
       "      <th></th>\n",
       "      <th>sum_sq</th>\n",
       "      <th>df</th>\n",
       "      <th>F</th>\n",
       "      <th>PR(&gt;F)</th>\n",
       "    </tr>\n",
       "  </thead>\n",
       "  <tbody>\n",
       "    <tr>\n",
       "      <th>C(Diet)</th>\n",
       "      <td>71.093689</td>\n",
       "      <td>2.0</td>\n",
       "      <td>6.197447</td>\n",
       "      <td>0.003229</td>\n",
       "    </tr>\n",
       "    <tr>\n",
       "      <th>Residual</th>\n",
       "      <td>430.179259</td>\n",
       "      <td>75.0</td>\n",
       "      <td>NaN</td>\n",
       "      <td>NaN</td>\n",
       "    </tr>\n",
       "  </tbody>\n",
       "</table>\n",
       "</div>"
      ],
      "text/plain": [
       "              sum_sq    df         F    PR(>F)\n",
       "C(Diet)    71.093689   2.0  6.197447  0.003229\n",
       "Residual  430.179259  75.0       NaN       NaN"
      ]
     },
     "execution_count": 27,
     "metadata": {},
     "output_type": "execute_result"
    }
   ],
   "source": [
    "model = ols('losingweight ~ C(Diet)', data=df_diet_losing).fit()\n",
    "anova_table = sm.stats.anova_lm(model, typ=2)\n",
    "anova_table"
   ]
  },
  {
   "cell_type": "code",
   "execution_count": 28,
   "id": "46678602",
   "metadata": {},
   "outputs": [],
   "source": [
    "def results(p, alpha=0.05):\n",
    "    cols=['f_score', 'p_value', 'KetLuan']\n",
    "    if p['p_value'] < alpha:\n",
    "        p['KetLuan'] = f\"Chấp nhận H1 với mức ý nghĩa {alpha}\"\n",
    "    if p['p_value'] >= alpha:\n",
    "        p['KetLuan'] = f\"Chấp nhận H0 với mức ý nghĩa {alpha}\"\n",
    "    df = pd.DataFrame(p, index=[''])\n",
    "    return df[cols]"
   ]
  },
  {
   "cell_type": "code",
   "execution_count": 29,
   "id": "78a10a22",
   "metadata": {},
   "outputs": [
    {
     "data": {
      "text/html": [
       "<div>\n",
       "<style scoped>\n",
       "    .dataframe tbody tr th:only-of-type {\n",
       "        vertical-align: middle;\n",
       "    }\n",
       "\n",
       "    .dataframe tbody tr th {\n",
       "        vertical-align: top;\n",
       "    }\n",
       "\n",
       "    .dataframe thead th {\n",
       "        text-align: right;\n",
       "    }\n",
       "</style>\n",
       "<table border=\"1\" class=\"dataframe\">\n",
       "  <thead>\n",
       "    <tr style=\"text-align: right;\">\n",
       "      <th></th>\n",
       "      <th>f_score</th>\n",
       "      <th>p_value</th>\n",
       "      <th>KetLuan</th>\n",
       "    </tr>\n",
       "  </thead>\n",
       "  <tbody>\n",
       "    <tr>\n",
       "      <th></th>\n",
       "      <td>6.197447</td>\n",
       "      <td>0.003229</td>\n",
       "      <td>Chấp nhận H1 với mức ý nghĩa 0.05</td>\n",
       "    </tr>\n",
       "  </tbody>\n",
       "</table>\n",
       "</div>"
      ],
      "text/plain": [
       "   f_score   p_value                            KetLuan\n",
       "  6.197447  0.003229  Chấp nhận H1 với mức ý nghĩa 0.05"
      ]
     },
     "execution_count": 29,
     "metadata": {},
     "output_type": "execute_result"
    }
   ],
   "source": [
    "p = {}\n",
    "p['f_score'] = anova_table['F'][0]\n",
    "p['p_value'] = anova_table['PR(>F)'][0]\n",
    "results(p)"
   ]
  },
  {
   "cell_type": "markdown",
   "id": "b06c0ab5",
   "metadata": {},
   "source": [
    "#### Kiểm tra hậu nghiệm"
   ]
  },
  {
   "cell_type": "code",
   "execution_count": 43,
   "id": "fe6dbaf2",
   "metadata": {},
   "outputs": [
    {
     "data": {
      "text/html": [
       "<table class=\"simpletable\">\n",
       "<caption>Multiple Comparison of Means - Tukey HSD, FWER=0.05</caption>\n",
       "<tr>\n",
       "  <th>group1</th> <th>group2</th> <th>meandiff</th>  <th>p-adj</th>  <th>lower</th>   <th>upper</th> <th>reject</th>\n",
       "</tr>\n",
       "<tr>\n",
       "     <td>1</td>      <td>2</td>    <td>-0.2741</td>   <td>0.9</td>  <td>-1.8806</td> <td>1.3325</td>  <td>False</td>\n",
       "</tr>\n",
       "<tr>\n",
       "     <td>1</td>      <td>3</td>    <td>1.8481</td>  <td>0.0201</td> <td>0.2416</td>  <td>3.4547</td>  <td>True</td> \n",
       "</tr>\n",
       "<tr>\n",
       "     <td>2</td>      <td>3</td>    <td>2.1222</td>  <td>0.0048</td> <td>0.5636</td>  <td>3.6808</td>  <td>True</td> \n",
       "</tr>\n",
       "</table>"
      ],
      "text/plain": [
       "<class 'statsmodels.iolib.table.SimpleTable'>"
      ]
     },
     "execution_count": 43,
     "metadata": {},
     "output_type": "execute_result"
    }
   ],
   "source": [
    "from statsmodels.stats.multicomp import pairwise_tukeyhsd\n",
    "tukey = pairwise_tukeyhsd(endog=df_diet_losing['losingweight'],\n",
    "                         groups=df_diet_losing['Diet'],\n",
    "                         alpha=0.05)\n",
    "tukey.summary()"
   ]
  },
  {
   "cell_type": "markdown",
   "id": "52d23da5",
   "metadata": {},
   "source": [
    "#### Kiểm tra các điều kiện cho kiểm định Anova"
   ]
  },
  {
   "cell_type": "code",
   "execution_count": 36,
   "id": "bfa76595",
   "metadata": {},
   "outputs": [
    {
     "data": {
      "image/png": "[encoded data removed]",
      "text/plain": [
       "<Figure size 432x288 with 2 Axes>"
      ]
     },
     "metadata": {},
     "output_type": "display_data"
    }
   ],
   "source": [
    "fig, ax = plt.subplots(1,2)\n",
    "sm.qqplot(model.resid,line='s', ax=ax[0])\n",
    "plt.xlabel(\"Theoretical Quantiles\")\n",
    "plt.ylabel(\"Sample Residuals\")\n",
    "\n",
    "plt.hist(model.resid, bins='auto', histtype='bar', ec='k', color= 'orange')\n",
    "plt.xlabel('Residuals')\n",
    "plt.ylabel('Frequency')\n",
    "plt.show()"
   ]
  },
  {
   "cell_type": "code",
   "execution_count": 37,
   "id": "f59e17dd",
   "metadata": {},
   "outputs": [],
   "source": [
    "p_v = stats.shapiro(model.resid)[1]"
   ]
  },
  {
   "cell_type": "markdown",
   "id": "0a31ff6c",
   "metadata": {},
   "source": [
    "##### Kiểm tra phân phối chuẩn"
   ]
  },
  {
   "cell_type": "code",
   "execution_count": 51,
   "id": "6eb0298b",
   "metadata": {},
   "outputs": [
    {
     "name": "stdout",
     "output_type": "stream",
     "text": [
      "Phát biểu giả thiết thống kê:\n",
      "    H0: Mẫu tuân theo phân phối chuẩn\n",
      "    H1: Mẫu khống tuân theo phân phối chuẩn\n",
      "Không có bằng chứng thống kê để bác bỏ giả thiết H0. Điều này ngụ ý Mẫu tuân theo phân phối chuẩn\n"
     ]
    }
   ],
   "source": [
    "print('''Phát biểu giả thiết thống kê:\n",
    "    H0: Mẫu tuân theo phân phối chuẩn\n",
    "    H1: Mẫu khống tuân theo phân phối chuẩn''')\n",
    "if p_v > 0.05:\n",
    "    print(f'Không có bằng chứng thống kê để bác bỏ giả thiết H0. Điều này ngụ ý Mẫu tuân theo phân phối chuẩn')\n",
    "else:\n",
    "    print(f'Có bằng chứng thống kê để bác bỏ giả thiết H0. Điều này ngụ ý Mẫu không tuân theo phân phối chuẩn (H1)')"
   ]
  },
  {
   "cell_type": "code",
   "execution_count": 44,
   "id": "6ec8be7a",
   "metadata": {},
   "outputs": [
    {
     "data": {
      "text/html": [
       "<div>\n",
       "<style scoped>\n",
       "    .dataframe tbody tr th:only-of-type {\n",
       "        vertical-align: middle;\n",
       "    }\n",
       "\n",
       "    .dataframe tbody tr th {\n",
       "        vertical-align: top;\n",
       "    }\n",
       "\n",
       "    .dataframe thead th {\n",
       "        text-align: right;\n",
       "    }\n",
       "</style>\n",
       "<table border=\"1\" class=\"dataframe\">\n",
       "  <thead>\n",
       "    <tr style=\"text-align: right;\">\n",
       "      <th></th>\n",
       "      <th>gender</th>\n",
       "      <th>losingweight</th>\n",
       "    </tr>\n",
       "  </thead>\n",
       "  <tbody>\n",
       "    <tr>\n",
       "      <th>2</th>\n",
       "      <td>0.0</td>\n",
       "      <td>3.8</td>\n",
       "    </tr>\n",
       "    <tr>\n",
       "      <th>3</th>\n",
       "      <td>0.0</td>\n",
       "      <td>6.0</td>\n",
       "    </tr>\n",
       "    <tr>\n",
       "      <th>4</th>\n",
       "      <td>0.0</td>\n",
       "      <td>0.7</td>\n",
       "    </tr>\n",
       "    <tr>\n",
       "      <th>5</th>\n",
       "      <td>0.0</td>\n",
       "      <td>2.9</td>\n",
       "    </tr>\n",
       "    <tr>\n",
       "      <th>6</th>\n",
       "      <td>0.0</td>\n",
       "      <td>2.8</td>\n",
       "    </tr>\n",
       "    <tr>\n",
       "      <th>...</th>\n",
       "      <td>...</td>\n",
       "      <td>...</td>\n",
       "    </tr>\n",
       "    <tr>\n",
       "      <th>73</th>\n",
       "      <td>1.0</td>\n",
       "      <td>2.8</td>\n",
       "    </tr>\n",
       "    <tr>\n",
       "      <th>74</th>\n",
       "      <td>1.0</td>\n",
       "      <td>4.1</td>\n",
       "    </tr>\n",
       "    <tr>\n",
       "      <th>75</th>\n",
       "      <td>1.0</td>\n",
       "      <td>5.3</td>\n",
       "    </tr>\n",
       "    <tr>\n",
       "      <th>76</th>\n",
       "      <td>1.0</td>\n",
       "      <td>9.2</td>\n",
       "    </tr>\n",
       "    <tr>\n",
       "      <th>77</th>\n",
       "      <td>1.0</td>\n",
       "      <td>6.1</td>\n",
       "    </tr>\n",
       "  </tbody>\n",
       "</table>\n",
       "<p>76 rows × 2 columns</p>\n",
       "</div>"
      ],
      "text/plain": [
       "    gender  losingweight\n",
       "2      0.0           3.8\n",
       "3      0.0           6.0\n",
       "4      0.0           0.7\n",
       "5      0.0           2.9\n",
       "6      0.0           2.8\n",
       "..     ...           ...\n",
       "73     1.0           2.8\n",
       "74     1.0           4.1\n",
       "75     1.0           5.3\n",
       "76     1.0           9.2\n",
       "77     1.0           6.1\n",
       "\n",
       "[76 rows x 2 columns]"
      ]
     },
     "execution_count": 44,
     "metadata": {},
     "output_type": "execute_result"
    }
   ],
   "source": [
    "#gender = 0: nữ, gender = 1: nam\n",
    "df_gen_losingweight = df[['gender','losingweight']].copy()\n",
    "df_gen_losingweight = df_gen_losingweight.replace(r'^\\s*$', np.nan, regex=True)\n",
    "df_gen_losingweight = df_gen_losingweight.dropna()\n",
    "df_gen_losingweight"
   ]
  },
  {
   "cell_type": "markdown",
   "id": "5571682f",
   "metadata": {},
   "source": [
    "#### SỰ KHÁC NHAU VỀ HIỆU QUẢ GIẢM CÂN VỚI CÁC GIỚI TÍNH KHÁC NHAU\n",
    "\n",
    "##### Phát biểu giả thuyết\n",
    "- H0: không có sự khác biệt về hiệu quả giảm cân đối với các giới tính khác nhau\n",
    "- H1: Các giới khác nhau về hiệu quả giảm cân"
   ]
  },
  {
   "cell_type": "code",
   "execution_count": 46,
   "id": "4a679b0f",
   "metadata": {},
   "outputs": [
    {
     "data": {
      "image/png": "[encoded data removed]",
      "text/plain": [
       "<Figure size 432x288 with 1 Axes>"
      ]
     },
     "metadata": {},
     "output_type": "display_data"
    }
   ],
   "source": [
    "sns.boxplot(x='gender',y='losingweight',data = df_gen_losingweight, color='yellow')\n",
    "sns.swarmplot(x='gender',y='losingweight', data = df_gen_losingweight, color='black')\n",
    "plt.show()"
   ]
  },
  {
   "cell_type": "code",
   "execution_count": 47,
   "id": "66a12094",
   "metadata": {},
   "outputs": [
    {
     "data": {
      "text/html": [
       "<div>\n",
       "<style scoped>\n",
       "    .dataframe tbody tr th:only-of-type {\n",
       "        vertical-align: middle;\n",
       "    }\n",
       "\n",
       "    .dataframe tbody tr th {\n",
       "        vertical-align: top;\n",
       "    }\n",
       "\n",
       "    .dataframe thead th {\n",
       "        text-align: right;\n",
       "    }\n",
       "</style>\n",
       "<table border=\"1\" class=\"dataframe\">\n",
       "  <thead>\n",
       "    <tr style=\"text-align: right;\">\n",
       "      <th></th>\n",
       "      <th>sum_sq</th>\n",
       "      <th>df</th>\n",
       "      <th>F</th>\n",
       "      <th>PR(&gt;F)</th>\n",
       "    </tr>\n",
       "  </thead>\n",
       "  <tbody>\n",
       "    <tr>\n",
       "      <th>C(gender)</th>\n",
       "      <td>0.278485</td>\n",
       "      <td>1.0</td>\n",
       "      <td>0.043786</td>\n",
       "      <td>0.834827</td>\n",
       "    </tr>\n",
       "    <tr>\n",
       "      <th>Residual</th>\n",
       "      <td>470.650331</td>\n",
       "      <td>74.0</td>\n",
       "      <td>NaN</td>\n",
       "      <td>NaN</td>\n",
       "    </tr>\n",
       "  </tbody>\n",
       "</table>\n",
       "</div>"
      ],
      "text/plain": [
       "               sum_sq    df         F    PR(>F)\n",
       "C(gender)    0.278485   1.0  0.043786  0.834827\n",
       "Residual   470.650331  74.0       NaN       NaN"
      ]
     },
     "execution_count": 47,
     "metadata": {},
     "output_type": "execute_result"
    }
   ],
   "source": [
    "model_2 = ols('losingweight ~ C(gender)', data=df_gen_losingweight).fit()\n",
    "anova_table = sm.stats.anova_lm(model_2, typ=2)\n",
    "anova_table"
   ]
  },
  {
   "cell_type": "code",
   "execution_count": 48,
   "id": "f44527a6",
   "metadata": {},
   "outputs": [
    {
     "data": {
      "text/html": [
       "<div>\n",
       "<style scoped>\n",
       "    .dataframe tbody tr th:only-of-type {\n",
       "        vertical-align: middle;\n",
       "    }\n",
       "\n",
       "    .dataframe tbody tr th {\n",
       "        vertical-align: top;\n",
       "    }\n",
       "\n",
       "    .dataframe thead th {\n",
       "        text-align: right;\n",
       "    }\n",
       "</style>\n",
       "<table border=\"1\" class=\"dataframe\">\n",
       "  <thead>\n",
       "    <tr style=\"text-align: right;\">\n",
       "      <th></th>\n",
       "      <th>f_score</th>\n",
       "      <th>p_value</th>\n",
       "      <th>KetLuan</th>\n",
       "    </tr>\n",
       "  </thead>\n",
       "  <tbody>\n",
       "    <tr>\n",
       "      <th></th>\n",
       "      <td>0.043786</td>\n",
       "      <td>0.834827</td>\n",
       "      <td>Chấp nhận H0 với mức ý nghĩa 0.05</td>\n",
       "    </tr>\n",
       "  </tbody>\n",
       "</table>\n",
       "</div>"
      ],
      "text/plain": [
       "   f_score   p_value                            KetLuan\n",
       "  0.043786  0.834827  Chấp nhận H0 với mức ý nghĩa 0.05"
      ]
     },
     "execution_count": 48,
     "metadata": {},
     "output_type": "execute_result"
    }
   ],
   "source": [
    "p = {}\n",
    "p['f_score'] = anova_table['F'][0]\n",
    "p['p_value'] = anova_table['PR(>F)'][0]\n",
    "results(p)"
   ]
  },
  {
   "cell_type": "markdown",
   "id": "dff0a6b8",
   "metadata": {},
   "source": [
    "##### Kiểm tra các điều kiện cho kiểm định Anova"
   ]
  },
  {
   "cell_type": "code",
   "execution_count": 50,
   "id": "a9f7b57a",
   "metadata": {},
   "outputs": [
    {
     "data": {
      "image/png": "[encoded data removed]",
      "text/plain": [
       "<Figure size 432x288 with 2 Axes>"
      ]
     },
     "metadata": {},
     "output_type": "display_data"
    }
   ],
   "source": [
    "fig, ax = plt.subplots(1,2)\n",
    "sm.qqplot(model_2.resid,line='s', ax=ax[0])\n",
    "plt.xlabel(\"Theoretical Quantiles\")\n",
    "plt.ylabel(\"Sample Residuals\")\n",
    "\n",
    "plt.hist(model_2.resid, bins='auto', histtype='bar', ec='k', color='pink')\n",
    "plt.xlabel('Residuals')\n",
    "plt.ylabel('Frequency')\n",
    "plt.show()"
   ]
  },
  {
   "cell_type": "code",
   "execution_count": null,
   "id": "e1502bef",
   "metadata": {},
   "outputs": [],
   "source": [
    "p_v = stats.shapiro(model_2.resid)[1]"
   ]
  },
  {
   "cell_type": "code",
   "execution_count": 52,
   "id": "fa5f9dcb",
   "metadata": {},
   "outputs": [
    {
     "name": "stdout",
     "output_type": "stream",
     "text": [
      "Phát biểu giả thiết thống kê:\n",
      "    H0: Mẫu tuân theo phân phối chuẩn\n",
      "    H1: Mẫu khống tuân theo phân phối chuẩn\n",
      "Không có bằng chứng thống kê để bác bỏ giả thiết H0. Điều này ngụ ý Mẫu tuân theo phân phối chuẩn\n"
     ]
    }
   ],
   "source": [
    "print('''Phát biểu giả thiết thống kê:\n",
    "    H0: Mẫu tuân theo phân phối chuẩn\n",
    "    H1: Mẫu khống tuân theo phân phối chuẩn''')\n",
    "if p_v > 0.05:\n",
    "    print(f'Không có bằng chứng thống kê để bác bỏ giả thiết H0. Điều này ngụ ý Mẫu tuân theo phân phối chuẩn')\n",
    "else:\n",
    "    print(f'Có bằng chứng thống kê để bác bỏ giả thiết H0. Điều này ngụ ý Mẫu không tuân theo phân phối chuẩn (H1)')"
   ]
  },
  {
   "cell_type": "code",
   "execution_count": null,
   "id": "38fea145",
   "metadata": {},
   "outputs": [],
   "source": []
  }
 ],
 "metadata": {
  "kernelspec": {
   "display_name": "Python 3",
   "language": "python",
   "name": "python3"
  },
  "language_info": {
   "codemirror_mode": {
    "name": "ipython",
    "version": 3
   },
   "file_extension": ".py",
   "mimetype": "text/x-python",
   "name": "python",
   "nbconvert_exporter": "python",
   "pygments_lexer": "ipython3",
   "version": "3.8.8"
  }
 },
 "nbformat": 4,
 "nbformat_minor": 5
}
